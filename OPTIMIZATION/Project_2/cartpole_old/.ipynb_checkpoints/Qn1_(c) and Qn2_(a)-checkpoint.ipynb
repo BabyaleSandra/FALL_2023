{
 "cells": [
  {
   "cell_type": "code",
   "execution_count": 25,
   "id": "5c0463bf-baec-4d74-938a-af24120219c5",
   "metadata": {},
   "outputs": [],
   "source": [
    "import numpy as np\n",
    "from control.matlab import *"
   ]
  },
  {
   "cell_type": "code",
   "execution_count": 26,
   "id": "8350c7cb-a0f7-49f7-8cb7-76197399caaf",
   "metadata": {},
   "outputs": [],
   "source": [
    "A = np.array([[0, 1], [0, 0]])\n",
    "B = np.array([[0], [1]])\n",
    "Q = np.eye(2)\n",
    "R = np.eye(1)"
   ]
  },
  {
   "cell_type": "code",
   "execution_count": 34,
   "id": "c6da02b7-7b5b-49f7-a612-fb24fbdd90cf",
   "metadata": {},
   "outputs": [
    {
     "name": "stdout",
     "output_type": "stream",
     "text": [
      "K = [[1.         1.73205081]]\n",
      "\n",
      "S = [[1.73205081 1.        ]\n",
      " [1.         1.73205081]]\n"
     ]
    }
   ],
   "source": [
    "(K, S, E) = lqr(A, B, Q, R)\n",
    "print(\"The optimal control matrix; K = \" + str(K)+ \"\\n\")\n",
    "print(\"S = \" + str(S))"
   ]
  },
  {
   "cell_type": "code",
   "execution_count": null,
   "id": "03fb7bb4-a45d-4c9a-a5be-97b1e7ff1e59",
   "metadata": {},
   "outputs": [],
   "source": []
  }
 ],
 "metadata": {
  "kernelspec": {
   "display_name": "Python 3 (ipykernel)",
   "language": "python",
   "name": "python3"
  },
  "language_info": {
   "codemirror_mode": {
    "name": "ipython",
    "version": 3
   },
   "file_extension": ".py",
   "mimetype": "text/x-python",
   "name": "python",
   "nbconvert_exporter": "python",
   "pygments_lexer": "ipython3",
   "version": "3.11.6"
  }
 },
 "nbformat": 4,
 "nbformat_minor": 5
}
