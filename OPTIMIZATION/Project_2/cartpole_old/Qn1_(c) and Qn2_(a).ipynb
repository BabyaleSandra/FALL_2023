{
 "cells": [
  {
   "cell_type": "code",
   "execution_count": 12,
   "id": "5c0463bf-baec-4d74-938a-af24120219c5",
   "metadata": {},
   "outputs": [],
   "source": [
    "import numpy as np\n",
    "from control.matlab import *"
   ]
  },
  {
   "cell_type": "markdown",
   "id": "bb423a9a-4531-4388-a36c-fc9f45bdf769",
   "metadata": {},
   "source": [
    "## Question  1(c)"
   ]
  },
  {
   "cell_type": "code",
   "execution_count": 13,
   "id": "a75fd812-66af-4bb9-a211-a57286420f87",
   "metadata": {},
   "outputs": [],
   "source": [
    "A1 = np.array([[0, 1], [0, 0]])\n",
    "B1 = np.array([[0], [1]])\n",
    "Q1 = np.eye(2)\n",
    "R1 = 0.5"
   ]
  },
  {
   "cell_type": "code",
   "execution_count": 14,
   "id": "7f8fe72d-ce8f-441b-a72b-8cfd9fdfb423",
   "metadata": {},
   "outputs": [
    {
     "name": "stdout",
     "output_type": "stream",
     "text": [
      "The optimal control matrix; K = [[1.41421356 2.19736823]]\n",
      "\n",
      "S = [[1.55377397 0.70710678]\n",
      " [0.70710678 1.09868411]]\n"
     ]
    }
   ],
   "source": [
    "(K1, S1, E) = lqr(A1, B1, Q1, R1)\n",
    "print(\"The optimal control matrix; K = \" + str(K1)+ \"\\n\")\n",
    "print(\"S = \" + str(S1))"
   ]
  },
  {
   "cell_type": "markdown",
   "id": "93b0f174-d502-4611-a4ca-7d9f25e4af4a",
   "metadata": {},
   "source": [
    "## Question  2(a)"
   ]
  },
  {
   "cell_type": "code",
   "execution_count": 19,
   "id": "9a793c1d-beeb-4189-b128-1f5ec770d307",
   "metadata": {},
   "outputs": [],
   "source": [
    "m_c = 0.2\n",
    "m_p = 0.5\n",
    "l = 0.5\n",
    "g = 9.80364"
   ]
  },
  {
   "cell_type": "code",
   "execution_count": 23,
   "id": "c7fb1dde-6057-4266-990c-a4d6a354f92b",
   "metadata": {},
   "outputs": [],
   "source": [
    "A2 = np.array([[0, 0,1,0], [0, 0,0,1], [0,(m_p*g)/m_c,0,0],[0, ((m_c+m_p)*g)/(m_c*l),0,0] ])\n",
    "B2 = np.array([[0], [0],[1/m_c],[1/(m_c*l)]])\n",
    "Q2 = np.array([[1/20, 0,0,0], [0, 0.5*m_p*g*l,0,0], [0,0,0.5*(m_c + m_p),m_p*l],[0, 0,m_p*l,0.5*m_p*(l**2)] ])\n",
    "R2 = 0.1* np.eye(1)"
   ]
  },
  {
   "cell_type": "code",
   "execution_count": 24,
   "id": "f00dcdfe-87fa-4b7f-b87a-470ab6c59811",
   "metadata": {},
   "outputs": [
    {
     "name": "stdout",
     "output_type": "stream",
     "text": [
      "The optimal control matrix; K = [[-0.70710678 24.04259064 -2.44505391  4.17850521]]\n",
      "\n",
      "S = [[ 0.17289142 -0.29546494  0.12391443 -0.06902828]\n",
      " [-0.29546494  4.98641143 -1.20263877  0.84174529]\n",
      " [ 0.12391443 -1.20263877  0.39833655 -0.22361881]\n",
      " [-0.06902828  0.84174529 -0.22361881  0.15359446]]\n"
     ]
    }
   ],
   "source": [
    "(K2, S2, E) = lqr(A2, B2, Q2, R2)\n",
    "print(\"The optimal control matrix; K = \" + str(K2)+ \"\\n\")\n",
    "print(\"S = \" + str(S2))"
   ]
  },
  {
   "cell_type": "code",
   "execution_count": null,
   "id": "34ce138c-c244-4328-834b-00eeb0380a12",
   "metadata": {},
   "outputs": [],
   "source": []
  },
  {
   "cell_type": "markdown",
   "id": "aba7cade-5dc1-40dd-b48e-5c53c851e668",
   "metadata": {},
   "source": [
    " Verification that the solution the LQR function above outputs satisfies the equation derived in question 1 part (b)"
   ]
  },
  {
   "cell_type": "code",
   "execution_count": 25,
   "id": "8f7db3c2-42d6-44d2-8983-849888478b3b",
   "metadata": {},
   "outputs": [
    {
     "data": {
      "text/plain": [
       "matrix([[-2.15799600e-15, -3.55271368e-15, -1.94289029e-15,\n",
       "         -9.82547377e-15],\n",
       "        [-4.21884749e-15,  2.13162821e-13, -4.61852778e-14,\n",
       "          3.01980663e-14],\n",
       "        [-1.97064587e-15, -4.70734562e-14,  1.22124533e-14,\n",
       "         -9.32587341e-15],\n",
       "        [-9.88098492e-15,  3.55271368e-14, -9.54791801e-15,\n",
       "          4.66293670e-15]])"
      ]
     },
     "execution_count": 25,
     "metadata": {},
     "output_type": "execute_result"
    }
   ],
   "source": [
    "Q2 + S2@A2 + (A2.T)@S2 - S2@B2@(np.linalg.inv(R2))@(B2.T)@S2"
   ]
  },
  {
   "cell_type": "code",
   "execution_count": null,
   "id": "0e7153da-c9d7-4f06-9099-1a65e61e27fa",
   "metadata": {},
   "outputs": [],
   "source": []
  }
 ],
 "metadata": {
  "kernelspec": {
   "display_name": "Python 3 (ipykernel)",
   "language": "python",
   "name": "python3"
  },
  "language_info": {
   "codemirror_mode": {
    "name": "ipython",
    "version": 3
   },
   "file_extension": ".py",
   "mimetype": "text/x-python",
   "name": "python",
   "nbconvert_exporter": "python",
   "pygments_lexer": "ipython3",
   "version": "3.11.6"
  }
 },
 "nbformat": 4,
 "nbformat_minor": 5
}
