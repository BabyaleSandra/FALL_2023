{
 "cells": [
  {
   "cell_type": "code",
   "execution_count": 120,
   "metadata": {},
   "outputs": [],
   "source": [
    "import numpy as np\n",
    "import matplotlib.pyplot as plt\n",
    "from scipy.optimize import linprog\n",
    "import pandas as pd\n",
    "# import fractions\n",
    "# np.set_printoptions(formatter={'all':lambda x: str(fractions.Fraction(x))})\n",
    "\n",
    "\n",
    "import numpy.random\n",
    "import matplotlib.pyplot as plt\n",
    "import matplotlib.pyplot as plt\n",
    "import matplotlib.colors as mcolors"
   ]
  },
  {
   "cell_type": "code",
   "execution_count": 121,
   "metadata": {
    "colab": {
     "base_uri": "https://localhost:8080/"
    },
    "id": "4A0NKs0uXkGr",
    "outputId": "3a0def89-a840-493d-c1f7-411d074a81a0"
   },
   "outputs": [],
   "source": [
    "\n",
    "def coefficients_A1(n):\n",
    "    A = np.zeros(((n*n)-1 , n*n))\n",
    "    for i in range(0,n):\n",
    "        for j in range(0, n):\n",
    "\n",
    "            idx = i + j* n\n",
    "\n",
    "            if i != 0 and i != n - 1 and j != 0 and j != n - 1: # INTERIOR POINTS\n",
    "                A[idx, idx] = -1\n",
    "                A[idx, (i-1) + j* n] = 1/4    #left\n",
    "                A[idx, (i+1) + j* n] = 1/4    #right\n",
    "                A[idx, i + (j-1)*n] = 1/4     #down\n",
    "                A[idx, i + (j+1)*n] = 1/4     #up\n",
    "\n",
    "\n",
    "            elif j == 0 and i != 0 and i != n - 1: # BOTTOM BOUNDARY\n",
    "                A[idx, idx] = -3/4\n",
    "                A[idx, (i-1) + j*n] = 1/4     #left\n",
    "                A[idx, (i+1) + j*n] = 1/4     #right\n",
    "                A[idx, i + (j+1)*n] = 1/4      #up\n",
    "\n",
    "            elif i == 0 and j != 0 and j != n - 1: # LEFT BOUNDARY\n",
    "                A[idx, idx] = -3/4\n",
    "                A[idx, (i+1) + j* n] = 1/4    #right\n",
    "                A[idx, i + (j-1)*n] = 1/4     #Down\n",
    "                A[idx, i + (j+1)*n] = 1/4     #up\n",
    "\n",
    "            elif j == n-1 and i != 0 and i != n - 1: # TOP BOUNDARY\n",
    "                A[idx, idx] = -3/4\n",
    "                A[idx, (i+1) + j* n] = 1/4 #right\n",
    "                A[idx, (i-1) + j*n] = 1/4  #left\n",
    "                A[idx, i + (j-1)*n] = 1/4   #down\n",
    "\n",
    "            elif i == n-1 and j != 0 and j != n - 1: # RIGHT BOUNDARY\n",
    "                A[idx, idx] = -3/4\n",
    "                A[idx, (i-1) + j*n] = 1/4  #left\n",
    "                A[idx, i + (j-1)*n] = 1/4  #down\n",
    "                A[idx, i + (j+1)*n] = 1/4  #up\n",
    "\n",
    "            elif i==0 and j==0:                       # Corner cell (0,0)\n",
    "                A[idx, idx] = -1/2\n",
    "                A[idx, (i+1) + j* n] = 1/4 #right\n",
    "                A[idx, i + (j+1)*n] = 1/4  #up\n",
    "\n",
    "            elif i== n-1 and j==0:                   # Corner cell (n-1,0)\n",
    "                A[idx, idx] = -1/2\n",
    "                A[idx, (i-1) + j*n] = 1/4  #left\n",
    "                A[idx, i + (j+1)*n] = 1/4  #up\n",
    "\n",
    "            elif i== 0 and j== n-1:                  # Corner cell (0,n-1)\n",
    "                A[idx, idx] = -1/2\n",
    "                A[idx, (i+1) + j* n] = 1/4 #right\n",
    "                A[idx, i + (j-1)*n] = 1/4  #down\n",
    "                \n",
    "    return A"
   ]
  },
  {
   "cell_type": "code",
   "execution_count": 122,
   "metadata": {},
   "outputs": [],
   "source": [
    "# A_ub = coefficients_A1(3)\n",
    "# b_ub = np.ones(8)\n",
    "# c = np.ones((9,1))\n",
    "# A_eq = np.array([[0., 0, 0, 0, 0, 0, 0, 0, 1]])\n",
    "# b_eq = np.array([0.])\n",
    "# bounds = (-np.inf, 0)\n",
    "# A_ub"
   ]
  },
  {
   "cell_type": "code",
   "execution_count": 123,
   "metadata": {},
   "outputs": [],
   "source": [
    "# res = linprog(c, A_ub=A_ub, b_ub=b_ub, A_eq=A_eq, b_eq=b_eq, bounds=bounds)\n",
    "# res.x"
   ]
  },
  {
   "cell_type": "code",
   "execution_count": 124,
   "metadata": {},
   "outputs": [
    {
     "data": {
      "text/plain": [
       "array([-349.30902569, -347.30902569, -343.53627662, -338.44528037,\n",
       "       -332.70754314, -327.17058918, -322.7593114 , -320.30157167,\n",
       "       -347.30902569, -345.08177475, -340.85452381, -335.09202133,\n",
       "       -328.50675987, -322.04491301, -316.80577335, -313.84383193,\n",
       "       -343.53627662, -340.85452381, -335.70802255, -328.56152128,\n",
       "       -320.182562  , -311.69652965, -304.57503704, -300.42415079,\n",
       "       -338.44528037, -335.09202133, -328.56152128, -319.26347925,\n",
       "       -307.96543721, -295.98360654, -285.37369438, -278.85358338,\n",
       "       -332.70754314, -328.50675987, -320.182562  , -307.96543721,\n",
       "       -292.43210106, -274.89876491, -258.08255057, -246.76290498,\n",
       "       -327.17058918, -322.04491301, -311.69652965, -295.98360654,\n",
       "       -274.89876491, -249.09680146, -221.29483801, -199.352581  ,\n",
       "       -322.7593114 , -316.80577335, -304.57503704, -285.37369438,\n",
       "       -258.08255057, -221.29483801, -174.647419  , -126.        ,\n",
       "       -320.30157167, -313.84383193, -300.42415079, -278.85358338,\n",
       "       -246.76290498, -199.352581  , -126.        ,    0.        ])"
      ]
     },
     "execution_count": 124,
     "metadata": {},
     "output_type": "execute_result"
    }
   ],
   "source": [
    "n = 8\n",
    "A_ub = coefficients_A1(n)\n",
    "b_ub = np.ones(n**2-1)\n",
    "c = np.ones(n**2)\n",
    "bounds = [(None,0)] * (n**2 - 1)  \n",
    "bounds.append((0, 0)) \n",
    "result = linprog(c, A_ub = A_ub, b_ub =b_ub , bounds=bounds, method='highs')\n",
    "result.x"
   ]
  },
  {
   "cell_type": "code",
   "execution_count": 125,
   "metadata": {},
   "outputs": [
    {
     "data": {
      "text/plain": [
       "-18764.308990008758"
      ]
     },
     "execution_count": 125,
     "metadata": {},
     "output_type": "execute_result"
    }
   ],
   "source": [
    "result.fun"
   ]
  },
  {
   "cell_type": "code",
   "execution_count": 143,
   "metadata": {},
   "outputs": [
    {
     "name": "stdout",
     "output_type": "stream",
     "text": [
      "\n",
      " Expected value from the Monte Carlo simulation is 18712.672\n"
     ]
    }
   ],
   "source": [
    "\n",
    "def goal(state,n):\n",
    "    return state == (n-1, n-1)\n",
    "\n",
    "def moves(state,actions,transition_prob,n):\n",
    "    move = np.random.choice(len(actions), p = transition_prob)\n",
    "    new_state = (state[0] + actions[move][0], state[1] + actions[move][1])\n",
    "    new_state = (max(0, min(n-1, new_state[0])), max(0, min(n-1, new_state[1])))\n",
    "    return new_state\n",
    "\n",
    "\n",
    "def simulations(initial_state,n):\n",
    "    state = initial_state\n",
    "    actions = [(0, 1), (1, 0), (0, -1), (-1, 0)]\n",
    "    transition_prob = np.random.permutation([0.25, 0.25, 0.25, 0.25])\n",
    "    num_moves = 0\n",
    "    while not goal(state,n):\n",
    "        state = moves(state,actions,transition_prob,n)\n",
    "        num_moves += 1\n",
    "    return num_moves\n",
    "\n",
    "def MC(num_simulations,n):\n",
    "    total_moves = 0\n",
    "    for i in range(n):\n",
    "        for j in range(n):\n",
    "            initial_state = (i, j)\n",
    "            for _ in range(num_simulations):\n",
    "                total_moves += simulations(initial_state,n)\n",
    "    \n",
    "    return total_moves / num_simulations\n",
    "print(f\"\\n Expected value from the Monte Carlo simulation is {MC(500,8)}\")"
   ]
  },
  {
   "cell_type": "code",
   "execution_count": 126,
   "metadata": {},
   "outputs": [
    {
     "data": {
      "image/png": "[encoded data removed]",
      "text/plain": [
       "<Figure size 1080x576 with 1 Axes>"
      ]
     },
     "metadata": {
      "needs_background": "light"
     },
     "output_type": "display_data"
    }
   ],
   "source": [
    "\n",
    "values = np.round(result.x, 0)\n",
    "grid = values.reshape(n, n)\n",
    "\n",
    "plt.figure(figsize=(15, 8))\n",
    "\n",
    "cmap = plt.cm.colors.ListedColormap(['white'])\n",
    "\n",
    "\n",
    "heatmap = plt.imshow(grid, cmap=cmap, interpolation='none')\n",
    "\n",
    "\n",
    "for i in range(1, 8):\n",
    "    plt.axhline(y=i - 0.5, color='black', linewidth=1)\n",
    "    plt.axvline(x=i - 0.5, color='black', linewidth=1)\n",
    "\n",
    "# Set y-axis ticks from 0 to 7\n",
    "plt.yticks(range(8))\n",
    "plt.gca().invert_yaxis()  # Invert the y-axis to have 0 at the top\n",
    "\n",
    "# Iterate over the grid and annotate the cells with the values, respecting the order\n",
    "for i in range(8):\n",
    "    for j in range(8):\n",
    "        value = values[j * 8 + i]  # Extract values from the flattened array\n",
    "        plt.text(i, j, f'{value:.2f}', ha='center', va='center', color='black')\n",
    "plt.savefig('Qn1_1.png')\n",
    "plt.show()\n"
   ]
  },
  {
   "cell_type": "code",
   "execution_count": 115,
   "metadata": {},
   "outputs": [
    {
     "data": {
      "image/png": "[encoded data removed]",
      "text/plain": [
       "<Figure size 1080x576 with 2 Axes>"
      ]
     },
     "metadata": {
      "needs_background": "light"
     },
     "output_type": "display_data"
    }
   ],
   "source": [
    "import numpy as np\n",
    "import matplotlib.pyplot as plt\n",
    "n=8\n",
    "# Assuming you have 'result.x' and 'n' defined\n",
    "values = np.round(result.x, 0)\n",
    "grid = values.reshape(n, n)\n",
    "\n",
    "plt.figure(figsize=(15, 8))\n",
    "\n",
    "# Create a heatmap with the viridis colormap (uniform color)\n",
    "cmap = 'viridis'\n",
    "\n",
    "heatmap = plt.imshow(grid, cmap=cmap, interpolation='none')\n",
    "\n",
    "# # Remove boundaries at the cells\n",
    "# for i in range(1, 8):\n",
    "#     plt.axhline(y=i - 0.5, color='black', linewidth=1)\n",
    "#     plt.axvline(x=i - 0.5, color='black', linewidth=1)\n",
    "\n",
    "# Set y-axis ticks from 0 to 7\n",
    "plt.yticks(range(8))\n",
    "plt.gca().invert_yaxis()  # Invert the y-axis to have 0 at the top\n",
    "\n",
    "# Add a colorbar\n",
    "cbar = plt.colorbar(heatmap)\n",
    "plt.savefig('Qn1_2.png')\n",
    "# Show the heatmap with a colorbar\n",
    "plt.show()\n"
   ]
  },
  {
   "cell_type": "code",
   "execution_count": 44,
   "metadata": {},
   "outputs": [],
   "source": [
    "def coefficients_A2(n): \n",
    "    A = np.zeros(((n*n)-1 , n*n))\n",
    "    for i in range(0,n):\n",
    "        for j in range(0, n):\n",
    "            idx = i + j* n\n",
    "\n",
    "            # FOUR MOVEMENTS\n",
    "            if i == 1 and j == 1:  # INTERIOR POINT\n",
    "                #print(idx)\n",
    "                A[idx, idx] = -1\n",
    "                A[idx, (i-1) + j* n] = 1/4    #left\n",
    "                A[idx, (i+1) + j* n] = 1/4    #right\n",
    "                A[idx, i + (j-1)*n] = 1/4     #down\n",
    "                A[idx, i + (j+1)*n] = 1/4     #up\n",
    "\n",
    "            # THREE MOVEMENTS\n",
    "\n",
    "            elif (i == n-1 and j != 0 and j != n - 1) or (i == 1 and j == 2): # RIGHT BOUNDARY\n",
    "                #print(i,j)\n",
    "                #print(idx)\n",
    "                A[idx, idx] = -3/4\n",
    "                A[idx, (i-1) + j*n] = 1/4  #left\n",
    "                A[idx, i + (j-1)*n] = 1/4  #down\n",
    "                A[idx, i + (j+1)*n] = 1/4  #up\n",
    "\n",
    "            elif (i == 0 and (j == 1 or j == 2 )) or (i == 3 and (j == 3 or j == 2 )):  \n",
    "                #print(i,j)\n",
    "                #print(idx)\n",
    "                A[idx, idx] = -3/4\n",
    "                A[idx, (i+1) + j* n] = 1/4    #right\n",
    "                A[idx, i + (j-1)*n] = 1/4     #down\n",
    "                A[idx, i + (j+1)*n] = 1/4     #up\n",
    "\n",
    "            elif (i == 3 and j == 1 ) or (i == 1 and  j == 0 ):  \n",
    "                #print(i,j)\n",
    "                #print(idx)\n",
    "                A[idx, idx] = -3/4\n",
    "                A[idx, i + (j+1)*n] = 1/4     #up\n",
    "                A[idx, (i+1) + j* n] = 1/4    #right\n",
    "                A[idx, (i-1) + j* n] = 1/4    #left\n",
    "\n",
    "            elif i == 3 and j == 4:  \n",
    "                #print(i,j)\n",
    "                #print(idx)\n",
    "                A[idx, idx] = -3/4\n",
    "                A[idx, (i+1) + j* n] = 1/4    #right\n",
    "                A[idx, (i-1) + j* n] = 1/4    #left\n",
    "                A[idx, i + (j-1)*n] = 1/4     #down\n",
    "\n",
    "            elif (i == 3 and j == 4) or (i == 2 and j == 1):  \n",
    "                #print(i,j)\n",
    "                #print(idx)\n",
    "                A[idx, idx] = -3/4\n",
    "                A[idx, (i+1) + j* n] = 1/4    #right\n",
    "                A[idx, (i-1) + j* n] = 1/4    #left\n",
    "                A[idx, i + (j-1)*n] = 1/4     #down\n",
    "\n",
    "            # TWO MOVEMENTS\n",
    "\n",
    "            elif i == 0 and j == 3:  \n",
    "                #print(i,j)\n",
    "                #print(idx)\n",
    "                A[idx, idx] = -1/2\n",
    "                A[idx, (i+1) + j* n] = 1/4    #right\n",
    "                A[idx, i + (j-1)*n] = 1/4     #down\n",
    "\n",
    "            elif i == 1 and j == 3:  \n",
    "                #print(i,j)\n",
    "                #print(idx)\n",
    "                A[idx, idx] = -1/2\n",
    "                A[idx, (i-1) + j* n] = 1/4    #left\n",
    "                A[idx, i + (j-1)*n] = 1/4     #down\n",
    "\n",
    "            elif i == 2 and j == 0:  \n",
    "                #print(i,j)\n",
    "                #print(idx)\n",
    "                A[idx, idx] = -1/2\n",
    "                A[idx, (i-1) + j* n] = 1/4    #left\n",
    "                A[idx, i + (j+1)*n] = 1/4     #up\n",
    "\n",
    "            elif i==0 and j==0:  \n",
    "                #print(i,j)\n",
    "                #print(idx)\n",
    "                A[idx, idx] = -1/2\n",
    "                A[idx, (i+1) + j* n] = 1/4 #right\n",
    "                A[idx, i + (j+1)*n] = 1/4  #up\n",
    "\n",
    "            # ONE MOVEMENTS\n",
    "\n",
    "            elif i == 4 and j == 0: \n",
    "                #print(i,j)\n",
    "                #print(idx)\n",
    "                A[idx, idx] = -1/4\n",
    "                A[idx, i + (j+1)*n] = 1/4     #up\n",
    "\n",
    "            elif i == 2 and j == 4:\n",
    "                #print(i,j)\n",
    "                #print(idx)\n",
    "                A[idx, idx] = -1/4\n",
    "                A[idx, (i+1) + j* n] = 1/4    #right\n",
    "    A = A[np.any(A != 0, axis=1)]\n",
    "    A = A[:, np.any(A != 0, axis=0)]\n",
    "\n",
    "    return A\n"
   ]
  },
  {
   "cell_type": "code",
   "execution_count": 45,
   "metadata": {},
   "outputs": [
    {
     "data": {
      "text/plain": [
       "array([-180.99760766, -175.33253589, -165.91626794, -102.57142857,\n",
       "       -182.66267943, -175.08373206, -152.5       , -112.5       ,\n",
       "        -98.57142857, -187.90669856, -185.83971292,  -82.42857143,\n",
       "        -76.64285714, -191.21770335, -190.52870813,  -54.14285714,\n",
       "        -44.92857143,  -35.07142857,  -31.07142857,    0.        ])"
      ]
     },
     "execution_count": 45,
     "metadata": {},
     "output_type": "execute_result"
    }
   ],
   "source": [
    "n = 5\n",
    "A_ub = coefficients_A2(n)\n",
    "b_ub = np.ones(n**2-6)\n",
    "c = 1*np.ones(n**2-5)\n",
    "b_ub.shape\n",
    "bounds = [(None,0)] * (n**2 - 6)  \n",
    "bounds.append((0, 0)) \n",
    "result = linprog(c, A_ub = A_ub, b_ub =b_ub , bounds=bounds, method='highs')\n",
    "result.x"
   ]
  },
  {
   "cell_type": "code",
   "execution_count": 46,
   "metadata": {},
   "outputs": [
    {
     "data": {
      "text/plain": [
       "-2425.914217361582"
      ]
     },
     "execution_count": 46,
     "metadata": {},
     "output_type": "execute_result"
    }
   ],
   "source": [
    "result.fun"
   ]
  },
  {
   "cell_type": "code",
   "execution_count": 117,
   "metadata": {},
   "outputs": [
    {
     "data": {
      "image/png": "[encoded data removed]",
      "text/plain": [
       "<Figure size 1080x576 with 2 Axes>"
      ]
     },
     "metadata": {
      "needs_background": "light"
     },
     "output_type": "display_data"
    }
   ],
   "source": [
    "# Your data with NaN values\n",
    "values = np.array([-180.99760766, -175.33253589, -165.91626794, np.nan, -102.57142857,\n",
    "                   -182.66267943, -175.08373206, -152.5, -112.5, -98.57142857,\n",
    "                   -187.90669856, -185.83971292, np.nan, -82.42857143, -76.64285714,\n",
    "                   -191.21770335, -190.52870813, np.nan, -54.14285714, -44.92857143,\n",
    "                   np.nan, np.nan, -35.07142857, -31.07142857, 0.0])\n",
    "\n",
    "# Replace NaN values with a grey color (you can adjust the color as needed)\n",
    "values = np.where(np.isnan(values), np.nan, values)\n",
    "n =5\n",
    "# Round the values for better display\n",
    "values = np.round(values, 0)\n",
    "grid = values.reshape(n, n)\n",
    "\n",
    "plt.figure(figsize=(15, 8))\n",
    "\n",
    "# Create a heatmap with the viridis colormap (uniform color)\n",
    "cmap = 'viridis'\n",
    "\n",
    "heatmap = plt.imshow(grid, cmap=cmap, interpolation='none')\n",
    "\n",
    "# # Remove boundaries at the cells\n",
    "# for i in range(1, 8):\n",
    "#     plt.axhline(y=i - 0.5, color='black', linewidth=1)\n",
    "#     plt.axvline(x=i - 0.5, color='black', linewidth=1)\n",
    "\n",
    "# Set y-axis ticks from 0 to 7\n",
    "plt.yticks(range(n))\n",
    "plt.gca().invert_yaxis()  # Invert the y-axis to have 0 at the top\n",
    "\n",
    "# Add a colorbar\n",
    "cbar = plt.colorbar(heatmap)\n",
    "plt.savefig('Qn2_2.png')\n",
    "# Show the heatmap with a colorbar\n",
    "plt.show()\n"
   ]
  },
  {
   "cell_type": "code",
   "execution_count": 119,
   "metadata": {},
   "outputs": [
    {
     "data": {
      "image/png": "[encoded data removed]",
      "text/plain": [
       "<Figure size 1080x576 with 1 Axes>"
      ]
     },
     "metadata": {
      "needs_background": "light"
     },
     "output_type": "display_data"
    }
   ],
   "source": [
    "\n",
    "values = np.array([-180.99760766, -175.33253589, -165.91626794, np.nan, -102.57142857,\n",
    "                   -182.66267943, -175.08373206, -152.5, -112.5, -98.57142857,\n",
    "                   -187.90669856, -185.83971292, np.nan, -82.42857143, -76.64285714,\n",
    "                   -191.21770335, -190.52870813, np.nan, -54.14285714, -44.92857143,\n",
    "                   np.nan, np.nan, -35.07142857, -31.07142857, 0.0])\n",
    "\n",
    "# Replace NaN values with a grey color (you can adjust the color as needed)\n",
    "values = np.where(np.isnan(values), np.nan, values)\n",
    "\n",
    "# Round the values for better display\n",
    "values = np.round(values, 0)\n",
    "\n",
    "# Set the grid size (assuming it's 5x5)\n",
    "n = 5\n",
    "grid = values.reshape(n, n)\n",
    "\n",
    "plt.figure(figsize=(15, 8))\n",
    "\n",
    "# Create a custom colormap with a single color (uniform white)\n",
    "cmap = plt.cm.colors.ListedColormap(['white'])\n",
    "\n",
    "# Create a heatmap with the custom colormap\n",
    "heatmap = plt.imshow(grid, cmap=cmap, interpolation='none')\n",
    "\n",
    "# Add black lines to separate cells\n",
    "for i in range(1, 5):\n",
    "    plt.axhline(y=i - 0.5, color='black', linewidth=1)\n",
    "    plt.axvline(x=i - 0.5, color='black', linewidth=1)\n",
    "\n",
    "# Set y-axis ticks from 0 to 7\n",
    "plt.yticks(range(5))\n",
    "plt.gca().invert_yaxis()  # Invert the y-axis to have 0 at the top\n",
    "\n",
    "# Iterate over the grid and annotate the cells with the values, respecting the order\n",
    "for i in range(n):\n",
    "    for j in range(n):\n",
    "        value = grid[j, i]  # Extract values from the grid\n",
    "        if not np.isnan(value):\n",
    "            plt.text(i, j, f'{value:.2f}', ha='center', va='center', color='black')\n",
    "plt.savefig('Qn2_1.png')\n",
    "plt.show()\n"
   ]
  },
  {
   "cell_type": "code",
   "execution_count": 128,
   "metadata": {},
   "outputs": [
    {
     "name": "stdout",
     "output_type": "stream",
     "text": [
      "Expected Value: 339.974\n"
     ]
    }
   ],
   "source": [
    "import numpy as np\n",
    "\n",
    "# Function to check if the robot is at the goal state (7, 7)\n",
    "def is_goal(state):\n",
    "    return state == (7, 7)\n",
    "\n",
    "# Function to simulate the robot's movement\n",
    "def move_robot(state, button_mapping):\n",
    "    directions = [(0, 1), (1, 0), (0, -1), (-1, 0)]\n",
    "    move = np.random.choice(len(directions), p=button_mapping)\n",
    "    new_state = (state[0] + directions[move][0], state[1] + directions[move][1])\n",
    "    # Ensure the robot stays within the bounds of the chessboard\n",
    "    new_state = (max(0, min(7, new_state[0])), max(0, min(7, new_state[1])))\n",
    "    return new_state\n",
    "\n",
    "# Function to perform one simulation run\n",
    "def simulate_run():\n",
    "    state = (0, 0)\n",
    "    button_mapping = np.random.permutation([0.25, 0.25, 0.25, 0.25])\n",
    "    num_moves = 0\n",
    "    while not is_goal(state):\n",
    "        state = move_robot(state, button_mapping)\n",
    "        num_moves += 1\n",
    "    return num_moves\n",
    "\n",
    "# Number of simulations\n",
    "num_simulations = 500\n",
    "total_moves = 0\n",
    "\n",
    "# Perform Monte Carlo simulations\n",
    "for _ in range(num_simulations):\n",
    "    total_moves += simulate_run()\n",
    "\n",
    "# Calculate the expected value\n",
    "expected_value = total_moves / num_simulations\n",
    "print(\"Expected Value:\", expected_value)\n"
   ]
  },
  {
   "cell_type": "code",
   "execution_count": 131,
   "metadata": {},
   "outputs": [
    {
     "name": "stdout",
     "output_type": "stream",
     "text": [
      "Expected Value: 18969.198\n"
     ]
    }
   ],
   "source": []
  },
  {
   "cell_type": "code",
   "execution_count": 152,
   "metadata": {},
   "outputs": [
    {
     "name": "stdout",
     "output_type": "stream",
     "text": [
      "Expected Value: inf\n"
     ]
    }
   ],
   "source": [
    "import numpy as np\n",
    "\n",
    "def goal(state, n):\n",
    "    return state == (n - 1, n - 1)\n",
    "\n",
    "def moves(state, actions, transition_prob, n):\n",
    "    move = np.random.choice(len(actions), p=transition_prob)\n",
    "    new_state = (state[0] + actions[move][0], state[1] + actions[move][1])\n",
    "    new_state = (max(0, min(n - 1, new_state[0])), max(0, min(n - 1, new_state[1])))\n",
    "    return new_state\n",
    "\n",
    "def is_valid(state, n, excluded_states):\n",
    "    return state not in excluded_states and 0 <= state[0] < n and 0 <= state[1] < n\n",
    "\n",
    "def simulations(initial_state, n, excluded_states):\n",
    "    if not is_valid(initial_state, n, excluded_states):\n",
    "        return float('inf')  # Exclude starting from an excluded state\n",
    "    \n",
    "    state = initial_state\n",
    "    actions = [(0, 1), (1, 0), (0, -1), (-1, 0)]\n",
    "    transition_prob = np.random.permutation([0.25, 0.25, 0.25, 0.25])\n",
    "    num_moves = 0\n",
    "    while not goal(state, n):\n",
    "        next_state = moves(state, actions, transition_prob, n)\n",
    "        if not is_valid(next_state, n, excluded_states):\n",
    "            return float('inf')  # Exclude moving into an excluded state\n",
    "        state = next_state\n",
    "        num_moves += 1\n",
    "    return num_moves\n",
    "\n",
    "def MC(num_simulations, n):\n",
    "    total_moves = 0\n",
    "    excluded_states = {(0, 3), (2, 2), (2, 3), (0, 4), (1, 4)}\n",
    "    \n",
    "    for i in range(n):\n",
    "        for j in range(n):\n",
    "            initial_state = (i, j)\n",
    "            if is_valid(initial_state, n, excluded_states):\n",
    "                for _ in range(num_simulations):\n",
    "                    total_moves += simulations(initial_state, n, excluded_states)\n",
    "    \n",
    "    return total_moves / num_simulations\n",
    "\n",
    "expected_value = MC(500, 5)\n",
    "print(\"Expected Value:\", expected_value)\n"
   ]
  },
  {
   "cell_type": "code",
   "execution_count": 146,
   "metadata": {},
   "outputs": [
    {
     "ename": "SyntaxError",
     "evalue": "invalid syntax (3204945582.py, line 8)",
     "output_type": "error",
     "traceback": [
      "\u001b[0;36m  Input \u001b[0;32mIn [146]\u001b[0;36m\u001b[0m\n\u001b[0;31m    return new_state\u001b[0m\n\u001b[0m    ^\u001b[0m\n\u001b[0;31mSyntaxError\u001b[0m\u001b[0;31m:\u001b[0m invalid syntax\n"
     ]
    }
   ],
   "source": [
    "\n",
    "\n",
    "\n"
   ]
  },
  {
   "cell_type": "code",
   "execution_count": null,
   "metadata": {},
   "outputs": [],
   "source": [
    "def goal(state, n):\n",
    "    return state == (n - 1, n - 1)\n",
    "\n",
    "def moves(state, actions, transition_prob, n):\n",
    "    move = np.random.choice(len(actions), p=transition_prob)\n",
    "    new_state = (state[0] + actions[move][0], state[1] + actions[move][1])\n",
    "    new_state = (max(0, min(n - 1, new_state[0])), max(0, min(n - 1, new_state[1]))\n",
    "    return new_state\n",
    "\n",
    "def simulations(initial_state, n, excluded_states):\n",
    "    state = initial_state\n",
    "    actions = [(0, 1), (1, 0), (0, -1), (-1, 0)]\n",
    "    transition_prob = np.random.permutation([0.25, 0.25, 0.25, 0.25])\n",
    "    num_moves = 0\n",
    "    while not goal(state, n):\n",
    "        state = moves(state, actions, transition_prob, n)\n",
    "        num_moves += 1\n",
    "        if state in excluded_states:\n",
    "            return float('inf')  # Exclude invalid states\n",
    "    return num_moves\n",
    "def MC(num_simulations, n):\n",
    "    total_moves = 0\n",
    "    excluded_states = {(0, 3), (2, 2), (2, 3), (0, 4), (1, 4)}\n",
    "    \n",
    "    for i in range(n):\n",
    "        for j in range(n):\n",
    "            initial_state = (i, j)\n",
    "            if initial_state not in excluded_states:\n",
    "                for _ in range(num_simulations):\n",
    "                    total_moves += simulations(initial_state, n, excluded_states)\n",
    "    \n",
    "    return total_moves / num_simulations\n",
    "\n",
    "expected_value = MC(500, 5)\n",
    "print(\"Expected Value:\", expected_value)"
   ]
  },
  {
   "cell_type": "code",
   "execution_count": 160,
   "metadata": {},
   "outputs": [
    {
     "name": "stdout",
     "output_type": "stream",
     "text": [
      "Expected Value: 2115.222\n"
     ]
    }
   ],
   "source": [
    "import numpy as np\n",
    "\n",
    "def goal(state, n):\n",
    "    return state == (n - 1, n - 1)\n",
    "\n",
    "def moves(state, actions, transition_prob, n):\n",
    "    move = np.random.choice(len(actions), p=transition_prob)\n",
    "    new_state = (state[0] + actions[move][0], state[1] + actions[move][1])\n",
    "    new_state = (max(0, min(n - 1, new_state[0])), max(0, min(n - 1, new_state[1])))\n",
    "    return new_state\n",
    "\n",
    "def is_valid(state, n, excluded_states):\n",
    "    return state not in excluded_states and 0 <= state[0] < n and 0 <= state[1] < n\n",
    "\n",
    "def simulations(initial_state, n, excluded_states):\n",
    "    num_moves = 0\n",
    "    state = initial_state\n",
    "    actions = [(0, 1), (1, 0), (0, -1), (-1, 0)]\n",
    "    transition_prob = np.random.permutation([0.25, 0.25, 0.25, 0.25])\n",
    "    \n",
    "    while not goal(state, n):\n",
    "        next_state = moves(state, actions, transition_prob, n)\n",
    "        if not is_valid(next_state, n, excluded_states):\n",
    "            # If the next move is an excluded state, the robot stays in its location,\n",
    "            # and we still count the move.\n",
    "            num_moves += 1\n",
    "            continue\n",
    "        state = next_state\n",
    "        num_moves += 1\n",
    "    return num_moves\n",
    "\n",
    "def simulations(initial_state, n, excluded_states):\n",
    "    num_moves = 0\n",
    "    state = initial_state\n",
    "    actions = [(0, 1), (1, 0), (0, -1), (-1, 0)]\n",
    "    transition_prob = np.random.permutation([0.25, 0.25, 0.25, 0.25])\n",
    "    \n",
    "    while not goal(state, n):\n",
    "        next_state = moves(state, actions, transition_prob, n)\n",
    "        if not (0 <= next_state[0] < n and 0 <= next_state[1] < n):\n",
    "            # If the next move is out of the grid, count it and stay in the initial position.\n",
    "            num_moves += 1\n",
    "            continue\n",
    "        if not is_valid(next_state, n, excluded_states):\n",
    "            # If the next move is an excluded state, the robot stays in its location and is counted.\n",
    "            num_moves += 1\n",
    "            continue\n",
    "        state = next_state\n",
    "        num_moves += 1\n",
    "    return num_moves\n",
    "\n",
    "\n",
    "\n",
    "def MC(num_simulations, n):\n",
    "    total_moves = 0\n",
    "    excluded_states = {(0, 3), (2, 2), (2, 3), (0, 4), (1, 4)}\n",
    "    \n",
    "    for i in range(n):\n",
    "        for j in range(n):\n",
    "            initial_state = (i, j)\n",
    "            if is_valid(initial_state, n, excluded_states):\n",
    "                for _ in range(num_simulations):\n",
    "                    total_moves += simulations(initial_state, n, excluded_states)\n",
    "    \n",
    "    return total_moves / num_simulations\n",
    "\n",
    "expected_value = MC(500, 5)\n",
    "print(\"Expected Value:\", expected_value)\n"
   ]
  },
  {
   "cell_type": "code",
   "execution_count": null,
   "metadata": {},
   "outputs": [],
   "source": []
  }
 ],
 "metadata": {
  "colab": {
   "provenance": []
  },
  "kernelspec": {
   "display_name": "Python 3 (ipykernel)",
   "language": "python",
   "name": "python3"
  },
  "language_info": {
   "codemirror_mode": {
    "name": "ipython",
    "version": 3
   },
   "file_extension": ".py",
   "mimetype": "text/x-python",
   "name": "python",
   "nbconvert_exporter": "python",
   "pygments_lexer": "ipython3",
   "version": "3.9.12"
  }
 },
 "nbformat": 4,
 "nbformat_minor": 1
}
