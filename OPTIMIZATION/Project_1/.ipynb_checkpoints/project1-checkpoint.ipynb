{
 "cells": [
  {
   "cell_type": "code",
   "execution_count": 1,
   "metadata": {},
   "outputs": [],
   "source": [
    "import numpy as np\n",
    "import matplotlib.pyplot as plt\n",
    "from scipy.optimize import linprog\n",
    "import pandas as pd\n",
    "# import fractions\n",
    "# np.set_printoptions(formatter={'all':lambda x: str(fractions.Fraction(x))})"
   ]
  },
  {
   "cell_type": "code",
   "execution_count": 2,
   "metadata": {
    "colab": {
     "base_uri": "https://localhost:8080/"
    },
    "id": "4A0NKs0uXkGr",
    "outputId": "3a0def89-a840-493d-c1f7-411d074a81a0"
   },
   "outputs": [],
   "source": [
    "\n",
    "def coefficients_A1(n):\n",
    "    \n",
    "    A = np.zeros(((n*n)-1 , n*n))\n",
    "    for i in range(0,n):\n",
    "        for j in range(0, n):\n",
    "\n",
    "\n",
    "            idx = i + j* n\n",
    "\n",
    "            if i != 0 and i != n - 1 and j != 0 and j != n - 1: # INTERIOR POINTS\n",
    "                A[idx, idx] = -1\n",
    "                A[idx, (i-1) + j* n] = 1/4    #left\n",
    "                A[idx, (i+1) + j* n] = 1/4    #right\n",
    "                A[idx, i + (j-1)*n] = 1/4     #down\n",
    "                A[idx, i + (j+1)*n] = 1/4     #up\n",
    "\n",
    "\n",
    "            elif j == 0 and i != 0 and i != n - 1: # BOTTOM BOUNDARY\n",
    "                A[idx, idx] = -3/4\n",
    "                A[idx, (i-1) + j*n] = 1/4     #left\n",
    "                A[idx, (i+1) + j*n] = 1/4     #right\n",
    "                A[idx, i + (j+1)*n] = 1/4      #up\n",
    "\n",
    "            elif i == 0 and j != 0 and j != n - 1: # LEFT BOUNDARY\n",
    "                A[idx, idx] = -3/4\n",
    "                A[idx, (i+1) + j* n] = 1/4    #right\n",
    "                A[idx, i + (j-1)*n] = 1/4     #Down\n",
    "                A[idx, i + (j+1)*n] = 1/4     #up\n",
    "\n",
    "            elif j == n-1 and i != 0 and i != n - 1: # TOP BOUNDARY\n",
    "                A[idx, idx] = -3/4\n",
    "                A[idx, (i+1) + j* n] = 1/4 #right\n",
    "                A[idx, (i-1) + j*n] = 1/4  #left\n",
    "                A[idx, i + (j-1)*n] = 1/4   #down\n",
    "\n",
    "            elif i == n-1 and j != 0 and j != n - 1: # RIGHT BOUNDARY\n",
    "                A[idx, idx] = -3/4\n",
    "                A[idx, (i-1) + j*n] = 1/4  #left\n",
    "                A[idx, i + (j-1)*n] = 1/4  #down\n",
    "                A[idx, i + (j+1)*n] = 1/4  #up\n",
    "\n",
    "            elif i==0 and j==0:                       # Corner cell (0,0)\n",
    "                A[idx, idx] = -1/2\n",
    "                A[idx, (i+1) + j* n] = 1/4 #right\n",
    "                A[idx, i + (j+1)*n] = 1/4  #up\n",
    "\n",
    "            elif i== n-1 and j==0:                   # Corner cell (n-1,0)\n",
    "                A[idx, idx] = -1/2\n",
    "                A[idx, (i-1) + j*n] = 1/4  #left\n",
    "                A[idx, i + (j+1)*n] = 1/4  #up\n",
    "\n",
    "            elif i== 0 and j== n-1:                  # Corner cell (0,n-1)\n",
    "                A[idx, idx] = -1/2\n",
    "                A[idx, (i+1) + j* n] = 1/4 #right\n",
    "                A[idx, i + (j-1)*n] = 1/4  #down\n",
    "                \n",
    "    return A\n",
    "\n"
   ]
  },
  {
   "cell_type": "code",
   "execution_count": 3,
   "metadata": {},
   "outputs": [
    {
     "data": {
      "text/plain": [
       "     con: array([], dtype=float64)\n",
       "     fun: -3242.1596281905595\n",
       " message: 'Optimization failed. The problem appears to be unbounded.'\n",
       "     nit: 125\n",
       "   slack: array([ 6.30000000e+01,  4.54747351e-13, -2.55795385e-13, -6.39488462e-14,\n",
       "       -7.10542736e-15,  2.13162821e-14,  0.00000000e+00, -7.99360578e-15,\n",
       "        2.98427949e-13, -1.98951966e-13,  2.27373675e-13, -3.55271368e-14,\n",
       "        9.94759830e-14, -4.26325641e-14,  1.42108547e-14,  7.99360578e-15,\n",
       "       -9.59232693e-14,  9.23705556e-14,  1.13686838e-13, -7.81597009e-14,\n",
       "       -2.13162821e-14,  7.10542736e-15, -7.10542736e-15, -3.55271368e-15,\n",
       "        3.90798505e-14, -7.81597009e-14, -6.39488462e-14,  2.13162821e-14,\n",
       "        2.13162821e-14, -1.77635684e-14,  3.55271368e-15,  0.00000000e+00,\n",
       "        3.73034936e-14, -5.32907052e-14,  2.48689958e-14,  3.55271368e-14,\n",
       "       -1.42108547e-14, -2.66453526e-15,  8.88178420e-16,  1.33226763e-15,\n",
       "       -1.95399252e-14,  0.00000000e+00,  5.32907052e-15, -1.95399252e-14,\n",
       "       -1.42108547e-14,  4.44089210e-15, -2.22044605e-15,  2.22044605e-16,\n",
       "        7.99360578e-15,  1.24344979e-14, -1.77635684e-15,  5.32907052e-15,\n",
       "        0.00000000e+00, -4.44089210e-16, -2.22044605e-16,  0.00000000e+00,\n",
       "        1.77635684e-15,  1.77635684e-15, -3.55271368e-15,  8.88178420e-16,\n",
       "        8.88178420e-16, -4.44089210e-16,  0.00000000e+00])\n",
       "  status: 3\n",
       " success: False\n",
       "       x: array([3.38393119e+02, 2.14393119e+02, 1.42245621e+02, 9.56556301e+01,\n",
       "       6.41560207e+01, 4.30090083e+01, 2.98679359e+01, 2.35495005e+01,\n",
       "       2.14393119e+02, 1.66540616e+02, 1.20688114e+02, 8.45652486e+01,\n",
       "       5.78034236e+01, 3.90030683e+01, 2.70452988e+01, 2.12310651e+01,\n",
       "       1.42245621e+02, 1.20688114e+02, 9.34009704e+01, 6.81138267e+01,\n",
       "       4.74893569e+01, 3.21545425e+01, 2.20791260e+01, 1.70983961e+01,\n",
       "       9.56556301e+01, 8.45652486e+01, 6.81138267e+01, 5.09997308e+01,\n",
       "       3.58856349e+01, 2.40466188e+01, 1.60182664e+01, 1.19849971e+01,\n",
       "       6.41560207e+01, 5.78034236e+01, 4.74893569e+01, 3.58856349e+01,\n",
       "       2.50068332e+01, 1.61280314e+01, 9.96232381e+00, 6.83832891e+00,\n",
       "       4.30090083e+01, 3.90030683e+01, 3.21545425e+01, 2.40466188e+01,\n",
       "       1.61280314e+01, 9.49634994e+00, 4.86466844e+00, 2.56766578e+00,\n",
       "       2.98679359e+01, 2.70452988e+01, 2.20791260e+01, 1.60182664e+01,\n",
       "       9.96232381e+00, 4.86466844e+00, 1.43233422e+00, 0.00000000e+00,\n",
       "       2.35495005e+01, 2.12310651e+01, 1.70983961e+01, 1.19849971e+01,\n",
       "       6.83832891e+00, 2.56766578e+00, 1.58146680e-15, 0.00000000e+00])"
      ]
     },
     "execution_count": 3,
     "metadata": {},
     "output_type": "execute_result"
    }
   ],
   "source": [
    "n = 8\n",
    "A_ub = coefficients_A1(n)\n",
    "b_ub = np.ones(n**2-1)\n",
    "c = -1*np.ones(n**2)\n",
    "result = linprog(c, A_ub, b_ub, method='simplex')\n",
    "result"
   ]
  },
  {
   "cell_type": "code",
   "execution_count": 4,
   "metadata": {},
   "outputs": [
    {
     "data": {
      "text/plain": [
       "array([3.38393119e+02, 2.14393119e+02, 1.42245621e+02, 9.56556301e+01,\n",
       "       6.41560207e+01, 4.30090083e+01, 2.98679359e+01, 2.35495005e+01,\n",
       "       2.14393119e+02, 1.66540616e+02, 1.20688114e+02, 8.45652486e+01,\n",
       "       5.78034236e+01, 3.90030683e+01, 2.70452988e+01, 2.12310651e+01,\n",
       "       1.42245621e+02, 1.20688114e+02, 9.34009704e+01, 6.81138267e+01,\n",
       "       4.74893569e+01, 3.21545425e+01, 2.20791260e+01, 1.70983961e+01,\n",
       "       9.56556301e+01, 8.45652486e+01, 6.81138267e+01, 5.09997308e+01,\n",
       "       3.58856349e+01, 2.40466188e+01, 1.60182664e+01, 1.19849971e+01,\n",
       "       6.41560207e+01, 5.78034236e+01, 4.74893569e+01, 3.58856349e+01,\n",
       "       2.50068332e+01, 1.61280314e+01, 9.96232381e+00, 6.83832891e+00,\n",
       "       4.30090083e+01, 3.90030683e+01, 3.21545425e+01, 2.40466188e+01,\n",
       "       1.61280314e+01, 9.49634994e+00, 4.86466844e+00, 2.56766578e+00,\n",
       "       2.98679359e+01, 2.70452988e+01, 2.20791260e+01, 1.60182664e+01,\n",
       "       9.96232381e+00, 4.86466844e+00, 1.43233422e+00, 0.00000000e+00,\n",
       "       2.35495005e+01, 2.12310651e+01, 1.70983961e+01, 1.19849971e+01,\n",
       "       6.83832891e+00, 2.56766578e+00, 1.58146680e-15, 0.00000000e+00])"
      ]
     },
     "execution_count": 4,
     "metadata": {},
     "output_type": "execute_result"
    }
   ],
   "source": [
    "result.x"
   ]
  },
  {
   "cell_type": "code",
   "execution_count": 5,
   "metadata": {},
   "outputs": [],
   "source": [
    "def coefficients_A2(n): \n",
    "    A = np.zeros(((n*n)-1 , n*n))\n",
    "    for i in range(0,n):\n",
    "        for j in range(0, n):\n",
    "            idx = i + j* n\n",
    "\n",
    "            # FOUR MOVEMENTS\n",
    "            if i == 1 and j == 1:  # INTERIOR POINT\n",
    "                #print(idx)\n",
    "                A[idx, idx] = -1\n",
    "                A[idx, (i-1) + j* n] = 1/4    #left\n",
    "                A[idx, (i+1) + j* n] = 1/4    #right\n",
    "                A[idx, i + (j-1)*n] = 1/4     #down\n",
    "                A[idx, i + (j+1)*n] = 1/4     #up\n",
    "\n",
    "            # THREE MOVEMENTS\n",
    "\n",
    "            elif (i == n-1 and j != 0 and j != n - 1) or (i == 1 and j == 2): # RIGHT BOUNDARY\n",
    "                #print(i,j)\n",
    "                #print(idx)\n",
    "                A[idx, idx] = -3/4\n",
    "                A[idx, (i-1) + j*n] = 1/4  #left\n",
    "                A[idx, i + (j-1)*n] = 1/4  #down\n",
    "                A[idx, i + (j+1)*n] = 1/4  #up\n",
    "\n",
    "            elif (i == 0 and (j == 1 or j == 2 )) or (i == 3 and (j == 3 or j == 2 )):  \n",
    "                #print(i,j)\n",
    "                #print(idx)\n",
    "                A[idx, idx] = -3/4\n",
    "                A[idx, (i+1) + j* n] = 1/4    #right\n",
    "                A[idx, i + (j-1)*n] = 1/4     #down\n",
    "                A[idx, i + (j+1)*n] = 1/4     #up\n",
    "\n",
    "            elif (i == 3 and j == 1 ) or (i == 1 and  j == 0 ):  \n",
    "                #print(i,j)\n",
    "                #print(idx)\n",
    "                A[idx, idx] = -3/4\n",
    "                A[idx, i + (j+1)*n] = 1/4     #up\n",
    "                A[idx, (i+1) + j* n] = 1/4    #right\n",
    "                A[idx, (i-1) + j* n] = 1/4    #left\n",
    "\n",
    "            elif i == 3 and j == 4:  \n",
    "                #print(i,j)\n",
    "                #print(idx)\n",
    "                A[idx, idx] = -3/4\n",
    "                A[idx, (i+1) + j* n] = 1/4    #right\n",
    "                A[idx, (i-1) + j* n] = 1/4    #left\n",
    "                A[idx, i + (j-1)*n] = 1/4     #down\n",
    "\n",
    "            elif (i == 3 and j == 4) or (i == 2 and j == 1):  \n",
    "                #print(i,j)\n",
    "                #print(idx)\n",
    "                A[idx, idx] = -3/4\n",
    "                A[idx, (i+1) + j* n] = 1/4    #right\n",
    "                A[idx, (i-1) + j* n] = 1/4    #left\n",
    "                A[idx, i + (j-1)*n] = 1/4     #down\n",
    "\n",
    "            # TWO MOVEMENTS\n",
    "\n",
    "            elif i == 0 and j == 3:  \n",
    "                #print(i,j)\n",
    "                #print(idx)\n",
    "                A[idx, idx] = -1/2\n",
    "                A[idx, (i+1) + j* n] = 1/4    #right\n",
    "                A[idx, i + (j-1)*n] = 1/4     #down\n",
    "\n",
    "            elif i == 1 and j == 3:  \n",
    "                #print(i,j)\n",
    "                #print(idx)\n",
    "                A[idx, idx] = -1/2\n",
    "                A[idx, (i-1) + j* n] = 1/4    #left\n",
    "                A[idx, i + (j-1)*n] = 1/4     #down\n",
    "\n",
    "            elif i == 2 and j == 0:  \n",
    "                #print(i,j)\n",
    "                #print(idx)\n",
    "                A[idx, idx] = -1/2\n",
    "                A[idx, (i-1) + j* n] = 1/4    #left\n",
    "                A[idx, i + (j+1)*n] = 1/4     #up\n",
    "\n",
    "            elif i==0 and j==0:  \n",
    "                #print(i,j)\n",
    "                #print(idx)\n",
    "                A[idx, idx] = -1/2\n",
    "                A[idx, (i+1) + j* n] = 1/4 #right\n",
    "                A[idx, i + (j+1)*n] = 1/4  #up\n",
    "\n",
    "            # ONE MOVEMENTS\n",
    "\n",
    "            elif i == 4 and j == 0: \n",
    "                #print(i,j)\n",
    "                #print(idx)\n",
    "                A[idx, idx] = -1/4\n",
    "                A[idx, i + (j+1)*n] = 1/4     #up\n",
    "\n",
    "            elif i == 2 and j == 4:\n",
    "                #print(i,j)\n",
    "                #print(idx)\n",
    "                A[idx, idx] = -1/4\n",
    "                A[idx, (i+1) + j* n] = 1/4    #right\n",
    "    A = A[np.any(A != 0, axis=1)]\n",
    "    A = A[:, np.any(A != 0, axis=0)]\n",
    "\n",
    "    return A\n"
   ]
  },
  {
   "cell_type": "code",
   "execution_count": 6,
   "metadata": {},
   "outputs": [
    {
     "data": {
      "text/plain": [
       "     con: array([], dtype=float64)\n",
       "     fun: -1805.9822282980183\n",
       " message: 'Optimization failed. The problem appears to be unbounded.'\n",
       "     nit: 37\n",
       "   slack: array([ 2.33809524e+01, -2.84217094e-14,  3.55271368e-15,  0.00000000e+00,\n",
       "        4.26325641e-14, -1.13686838e-13,  9.05941988e-14, -2.66453526e-14,\n",
       "        2.66453526e-15,  0.00000000e+00, -5.68434189e-14,  7.99360578e-15,\n",
       "       -1.33226763e-15, -1.42108547e-14,  4.26325641e-14, -3.10862447e-15,\n",
       "        0.00000000e+00,  0.00000000e+00,  0.00000000e+00])\n",
       "  status: 3\n",
       " success: False\n",
       "       x: array([214.52084757, 166.93552062, 139.6582365 ,  37.71428571,\n",
       "       172.582365  , 150.62747779, 116.38095238,  62.85714286,\n",
       "        41.71428571, 156.59876965, 150.61107314,  34.47619048,\n",
       "        28.57142857, 150.60287081, 148.60697198,  16.        ,\n",
       "        13.52380952,   0.        ,   4.        ,   0.        ])"
      ]
     },
     "execution_count": 6,
     "metadata": {},
     "output_type": "execute_result"
    }
   ],
   "source": [
    "n = 5\n",
    "A_ub = coefficients_A2(n)\n",
    "b_ub = np.ones(n**2-6)\n",
    "c = -1*np.ones(n**2-5)\n",
    "b_ub.shape\n",
    "\n",
    "result = linprog(c, A_ub, b_ub, method='simplex')\n",
    "result"
   ]
  },
  {
   "cell_type": "code",
   "execution_count": 7,
   "metadata": {},
   "outputs": [
    {
     "data": {
      "text/plain": [
       "array([214.52084757, 166.93552062, 139.6582365 ,  37.71428571,\n",
       "       172.582365  , 150.62747779, 116.38095238,  62.85714286,\n",
       "        41.71428571, 156.59876965, 150.61107314,  34.47619048,\n",
       "        28.57142857, 150.60287081, 148.60697198,  16.        ,\n",
       "        13.52380952,   0.        ,   4.        ,   0.        ])"
      ]
     },
     "execution_count": 7,
     "metadata": {},
     "output_type": "execute_result"
    }
   ],
   "source": [
    "result.x\n"
   ]
  },
  {
   "cell_type": "code",
   "execution_count": null,
   "metadata": {},
   "outputs": [],
   "source": []
  }
 ],
 "metadata": {
  "colab": {
   "provenance": []
  },
  "kernelspec": {
   "display_name": "Python 3 (ipykernel)",
   "language": "python",
   "name": "python3"
  },
  "language_info": {
   "codemirror_mode": {
    "name": "ipython",
    "version": 3
   },
   "file_extension": ".py",
   "mimetype": "text/x-python",
   "name": "python",
   "nbconvert_exporter": "python",
   "pygments_lexer": "ipython3",
   "version": "3.9.12"
  }
 },
 "nbformat": 4,
 "nbformat_minor": 1
}
