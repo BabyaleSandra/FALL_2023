{
 "cells": [
  {
   "cell_type": "code",
   "execution_count": 1,
   "id": "fd22f422",
   "metadata": {},
   "outputs": [],
   "source": [
    "import numpy as np\n",
    "from scipy.optimize import linprog\n"
   ]
  },
  {
   "cell_type": "code",
   "execution_count": 1,
   "id": "13174897",
   "metadata": {},
   "outputs": [
    {
     "name": "stdout",
     "output_type": "stream",
     "text": [
      "['S11', 'S12', 'S13']\n",
      "['S21', 'S22', 'S23']\n",
      "['S31', 'S32', 'S33']\n"
     ]
    }
   ],
   "source": [
    "# Define the grid size\n",
    "rows = 3\n",
    "cols = 3\n",
    "\n",
    "# Create an empty grid\n",
    "grid = []\n",
    "\n",
    "# Generate state names and populate the grid\n",
    "state_counter = 1\n",
    "for row in range(rows):\n",
    "    row_states = []\n",
    "    for col in range(cols):\n",
    "        state_name = f'S{row + 1}{col + 1}'\n",
    "        row_states.append(state_name)\n",
    "        state_counter += 1\n",
    "    grid.append(row_states)\n",
    "\n",
    "# Print the grid with state names\n",
    "for row in grid:\n",
    "    print(row)\n"
   ]
  },
  {
   "cell_type": "code",
   "execution_count": 22,
   "id": "5434f7a3",
   "metadata": {},
   "outputs": [
    {
     "data": {
      "text/plain": [
       "8"
      ]
     },
     "execution_count": 22,
     "metadata": {},
     "output_type": "execute_result"
    }
   ],
   "source": [
    "len(A_eq)"
   ]
  },
  {
   "cell_type": "code",
   "execution_count": null,
   "id": "26282411",
   "metadata": {},
   "outputs": [],
   "source": [
    "A = np.zeros((3,3))\n",
    "for i in range(3):\n",
    "    for j in range(3):\n",
    "        if i != 0,i != 2,j != 0,i != 2:\n",
    "            A[i-1,j] = 1/4\n",
    "            A[i+1,j] = 1/4\n",
    "            A[i,j-1] = 1/4\n",
    "            A[i,j+1] = 1/4\n",
    "            \n",
    "        "
   ]
  },
  {
   "cell_type": "code",
   "execution_count": 2,
   "id": "24950d84",
   "metadata": {},
   "outputs": [
    {
     "name": "stdout",
     "output_type": "stream",
     "text": [
      "S11 = S22\n",
      "Si-1,j = S12\n"
     ]
    }
   ],
   "source": [
    "# Define the dimensions of the grid\n",
    "rows = 3\n",
    "cols = 3\n",
    "\n",
    "# Create an empty grid\n",
    "grid = [[None for _ in range(cols)] for _ in range(rows)]\n",
    "\n",
    "# Populate the grid with state names\n",
    "for i in range(rows):\n",
    "    for j in range(cols):\n",
    "        state_name = f'S{i + 1}{j + 1}'\n",
    "        grid[i][j] = state_name\n",
    "\n",
    "# Function to get the state at a specific row and column\n",
    "def get_state(row, col):\n",
    "    if 0 <= row < rows and 0 <= col < cols:\n",
    "        return grid[row][col]\n",
    "    else:\n",
    "        return None\n",
    "\n",
    "# Example: Relate S11 to Si-1,j\n",
    "row_index = 1\n",
    "col_index = 1\n",
    "\n",
    "# Calculate the indices for Si-1,j\n",
    "previous_row_index = row_index - 1\n",
    "\n",
    "# Get the state S11\n",
    "state_11 = get_state(row_index, col_index)\n",
    "\n",
    "# Get the related state Si-1,j\n",
    "related_state = get_state(previous_row_index, col_index)\n",
    "\n",
    "print(f'S11 = {state_11}')\n",
    "print(f'Si-1,j = {related_state}')\n"
   ]
  },
  {
   "cell_type": "code",
   "execution_count": 3,
   "id": "477aaabf",
   "metadata": {},
   "outputs": [
    {
     "name": "stdout",
     "output_type": "stream",
     "text": [
      "['S31', 'S32', 'S33']\n",
      "['S21', 'S22', 'S23']\n",
      "['S11', 'S12', 'S13']\n",
      "\n",
      "State at row 1, column 2: S23\n"
     ]
    }
   ],
   "source": [
    "# Define the dimensions of the grid\n",
    "rows = 3\n",
    "cols = 3\n",
    "\n",
    "# Create an empty grid\n",
    "grid = [[None for _ in range(cols)] for _ in range(rows)]\n",
    "\n",
    "# Populate the grid with state names, arranging states so that the least i is at the last row\n",
    "for i in range(rows):\n",
    "    for j in range(cols):\n",
    "        state_name = f'S{i + 1}{j + 1}'\n",
    "        grid[rows - i - 1][j] = state_name  # Arrange states based on least i at last row\n",
    "\n",
    "# Function to get the state at a specific row and column\n",
    "def get_state(row, col):\n",
    "    if 0 <= row < rows and 0 <= col < cols:\n",
    "        return grid[row][col]\n",
    "    else:\n",
    "        return None\n",
    "\n",
    "# Example: Access state at row 1, column 2\n",
    "state = get_state(1, 2)\n",
    "\n",
    "# Print the grid\n",
    "for row in grid:\n",
    "    print(row)\n",
    "\n",
    "print(f'\\nState at row 1, column 2: {state}')\n"
   ]
  },
  {
   "cell_type": "code",
   "execution_count": 5,
   "id": "a4e31d40",
   "metadata": {},
   "outputs": [
    {
     "name": "stdout",
     "output_type": "stream",
     "text": [
      "S22 = S22\n",
      "Si-1,j = S12\n"
     ]
    }
   ],
   "source": [
    "# Define the dimensions of the grid\n",
    "rows = 3\n",
    "cols = 3\n",
    "\n",
    "# Define the state you want to relate to Si-1,j\n",
    "target_state = 'S22'\n",
    "\n",
    "# Find the row and column indices of the target state\n",
    "for i in range(rows):\n",
    "    for j in range(cols):\n",
    "        if grid[i][j] == target_state:\n",
    "            row_index = i\n",
    "            col_index = j\n",
    "            break\n",
    "\n",
    "# Calculate the indices for Si-1,j based on the provided arrangement\n",
    "previous_row_index = row_index + 1  # Increase the row index by 1 to relate to the row above\n",
    "related_col_index = col_index\n",
    "\n",
    "# Get the state S22\n",
    "state_22 = target_state\n",
    "\n",
    "# Get the related state Si-1,j based on the arrangement\n",
    "related_state = get_state(previous_row_index, related_col_index)\n",
    "\n",
    "print(f'{target_state} = {state_22}')\n",
    "print(f'Si-1,j = {related_state}')\n"
   ]
  },
  {
   "cell_type": "code",
   "execution_count": null,
   "id": "18fe61d8",
   "metadata": {},
   "outputs": [],
   "source": []
  }
 ],
 "metadata": {
  "kernelspec": {
   "display_name": "Python 3 (ipykernel)",
   "language": "python",
   "name": "python3"
  },
  "language_info": {
   "codemirror_mode": {
    "name": "ipython",
    "version": 3
   },
   "file_extension": ".py",
   "mimetype": "text/x-python",
   "name": "python",
   "nbconvert_exporter": "python",
   "pygments_lexer": "ipython3",
   "version": "3.9.12"
  }
 },
 "nbformat": 4,
 "nbformat_minor": 5
}
