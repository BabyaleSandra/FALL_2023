{
  "nbformat": 4,
  "nbformat_minor": 0,
  "metadata": {
    "colab": {
      "provenance": []
    },
    "kernelspec": {
      "name": "python3",
      "display_name": "Python 3"
    },
    "language_info": {
      "name": "python"
    }
  },
  "cells": [
    {
      "cell_type": "code",
      "execution_count": null,
      "metadata": {
        "id": "O-nTglXjZGjI"
      },
      "outputs": [],
      "source": [
        "import numpy as np\n",
        "import matplotlib.pyplot as plt\n",
        "from scipy.optimize import linprog"
      ]
    },
    {
      "cell_type": "markdown",
      "source": [
        " We ned to create the acontainer for the coefficients of the objective functon (Minimize J)"
      ],
      "metadata": {
        "id": "XbygJYVqb8tv"
      }
    },
    {
      "cell_type": "code",
      "source": [
        "c = [1]*64"
      ],
      "metadata": {
        "id": "gxo4GEAUb_kc"
      },
      "execution_count": null,
      "outputs": []
    },
    {
      "cell_type": "markdown",
      "source": [
        "We now define a python function to have our system of linear equations given in the form Ax = b."
      ],
      "metadata": {
        "id": "aupNWT9ScR9b"
      }
    },
    {
      "cell_type": "code",
      "source": [
        "n = 3\n",
        "A = np.zeros(((n*n)-1 , n*n))\n",
        "for i in range(1,n-1):\n",
        "    for j in range(1, n-1):\n",
        "        idx = i * n + j\n",
        "        A[idx, idx] = -1\n",
        "        A[idx, i * n + (j+1)] = 1/4\n",
        "        A[idx, (i-1) * n + j] = 1/4\n",
        "        A[idx, (i+1) * n + j] = 1/4\n",
        "        A[idx, i * n + (j-1)] = 1/4\n",
        "\n",
        "\n",
        "\n",
        "\n",
        "A[0,0] = -1/2\n",
        "A[1,0] = 1/4\n",
        "A[0,1] = 1/4\n",
        "A[0, n] = 0.25\n",
        "\n",
        "\n",
        "A[n - 1, n - 1] = -0.5\n",
        "A[n - 1, n - 2] = 0.25\n",
        "A[n - 1, n + n - 1] = 0.25\n",
        "\n",
        "A[n * (n - 1), n * (n - 1)] = -0.5\n",
        "A[n * (n - 1), n * (n - 1) - n] = 0.25\n",
        "A[n * (n - 1), n * (n - 1) + 1] = 0.25\n",
        "\n",
        "\n",
        "print(A)"
      ],
      "metadata": {
        "colab": {
          "base_uri": "https://localhost:8080/"
        },
        "id": "psI5q_mxcHgP",
        "outputId": "358b625a-97ad-4c2a-c4a9-65da551d1585"
      },
      "execution_count": null,
      "outputs": [
        {
          "output_type": "stream",
          "name": "stdout",
          "text": [
            "[[-0.5   0.25  0.    0.25  0.    0.    0.    0.    0.  ]\n",
            " [ 0.25  0.    0.    0.    0.    0.    0.    0.    0.  ]\n",
            " [ 0.    0.25 -0.5   0.    0.    0.25  0.    0.    0.  ]\n",
            " [ 0.    0.    0.    0.    0.    0.    0.    0.    0.  ]\n",
            " [ 0.    0.25  0.    0.25 -1.    0.25  0.    0.25  0.  ]\n",
            " [ 0.    0.    0.    0.    0.    0.    0.    0.    0.  ]\n",
            " [ 0.    0.    0.    0.25  0.    0.   -0.5   0.25  0.  ]\n",
            " [ 0.    0.    0.    0.    0.    0.    0.    0.    0.  ]]\n"
          ]
        }
      ]
    },
    {
      "cell_type": "code",
      "source": [
        "n = 3\n",
        "\n",
        "A = np.zeros(((n * n) - 1, n * n))\n",
        "\n",
        "for i in range(0, n):\n",
        "    for j in range(0, n):\n",
        "\n",
        "        if i != 0 and i != n - 1 and j != 0 and j != n - 1:\n",
        "            idx = i * n + j\n",
        "            A[idx, idx] = -1\n",
        "            A[idx, i * n + (j + 1)] = 1/4\n",
        "            A[idx, (i - 1) * n + j] = 1/4\n",
        "            A[idx, (i + 1) * n + j] = 1/4\n",
        "            A[idx, i * n + (j - 1)] = 1/4\n",
        "\n",
        "        elif i == 0 and j != 0 and j != n - 1:\n",
        "            idx = i * n + j\n",
        "            A[idx, idx] = -3/4\n",
        "            A[idx, i * n + (j + 1)] = 1/4\n",
        "            A[idx, (i + 1) * n + j] = 1/4\n",
        "            A[idx, i * n + (j - 1)] = 1/4\n",
        "\n",
        "        elif j == 0 and i != 0 and i != n - 1:\n",
        "            idx = i * n + j\n",
        "            A[idx, idx] = -3/4\n",
        "            A[idx, i * n + (j + 1)] = 1/4\n",
        "            A[idx, (i - 1) * n + j] = 1/4\n",
        "            A[idx, (i + 1) * n + j] = 1/4\n",
        "\n",
        "        elif i == n - 1 and j != 0 and j != n - 1:\n",
        "            idx = i * n + j\n",
        "            A[idx, idx] = -3/4\n",
        "            A[idx, i * n + (j + 1)] = 1/4\n",
        "            A[idx, (i - 1) * n + j] = 1/4\n",
        "            A[idx, i * n + (j - 1)] = 1/4\n",
        "\n",
        "        elif j == n - 1 and i != 0 and i != n - 1:\n",
        "            idx = i * n + j\n",
        "            A[idx, idx] = -3/4\n",
        "            A[idx, i * n + (j - 1)] = 1/4\n",
        "            A[idx, (i - 1) * n + j] = 1/4\n",
        "            A[idx, (i + 1) * n + j] = 1/4\n",
        "\n",
        "# # Corner constraints\n",
        "# A[0, 0] = -1/2\n",
        "# A[0, 1] = 1/4\n",
        "# A[1, 0] = 1/4\n",
        "\n",
        "# A[n * (n - 1), n * (n - 1)] = -0.5\n",
        "# A[n * (n - 1), n * (n - 2)] = 0.25\n",
        "# A[n * (n - 1), n * (n - 1) - 1] = 0.25\n",
        "\n",
        "print(\"Coefficient Matrix A:\")\n",
        "print(A)\n"
      ],
      "metadata": {
        "id": "p_XCBDtDSCiF",
        "outputId": "0e573539-c483-416c-bedf-e8b7c2141b07",
        "colab": {
          "base_uri": "https://localhost:8080/"
        }
      },
      "execution_count": null,
      "outputs": [
        {
          "output_type": "stream",
          "name": "stdout",
          "text": [
            "Coefficient Matrix A:\n",
            "[[ 0.    0.    0.    0.    0.    0.    0.    0.    0.  ]\n",
            " [ 0.25 -0.75  0.25  0.    0.25  0.    0.    0.    0.  ]\n",
            " [ 0.    0.    0.    0.    0.    0.    0.    0.    0.  ]\n",
            " [ 0.25  0.    0.   -0.75  0.25  0.    0.25  0.    0.  ]\n",
            " [ 0.    0.25  0.    0.25 -1.    0.25  0.    0.25  0.  ]\n",
            " [ 0.    0.    0.25  0.    0.25 -0.75  0.    0.    0.25]\n",
            " [ 0.    0.    0.    0.    0.    0.    0.    0.    0.  ]\n",
            " [ 0.    0.    0.    0.    0.25  0.    0.25 -0.75  0.25]]\n"
          ]
        }
      ]
    },
    {
      "cell_type": "code",
      "source": [
        "# c = np.zeros(n * n)\n",
        "# c[63] = 1\n",
        "\n",
        "# # Solve the LP problem\n",
        "# result = linprog(c, A_ub=A, b_ub=b, method='highs')\n",
        "\n",
        "# if result.success:\n",
        "#     # Extract the solution\n",
        "#     solution = result.x\n",
        "\n",
        "#     # Print the solution (optional)\n",
        "#     for i in range(n):\n",
        "#         for j in range(n):\n",
        "#             idx = i * n + j\n",
        "#             print(f'v({i},{j}) = {solution[idx]:.2f}')\n",
        "\n",
        "#     print(f\"Minimum value: {result.fun:.2f}\")\n",
        "# else:\n",
        "#     print(\"No feasible solution found.\")\n"
      ],
      "metadata": {
        "id": "LDYP9TXl2T4_"
      },
      "execution_count": null,
      "outputs": []
    },
    {
      "cell_type": "code",
      "source": [],
      "metadata": {
        "id": "gHDuITziiDE6"
      },
      "execution_count": null,
      "outputs": []
    },
    {
      "cell_type": "code",
      "source": [],
      "metadata": {
        "id": "BWWamCkGrK-G"
      },
      "execution_count": null,
      "outputs": []
    }
  ]
}