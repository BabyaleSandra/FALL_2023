{
 "cells": [
  {
   "cell_type": "code",
   "execution_count": 10,
   "id": "fd22f422",
   "metadata": {},
   "outputs": [],
   "source": [
    "import numpy as np\n",
    "from scipy.optimize import linprog"
   ]
  },
  {
   "cell_type": "code",
   "execution_count": 11,
   "id": "13174897",
   "metadata": {},
   "outputs": [],
   "source": [
    "# # Define the grid size\n",
    "# rows = 3\n",
    "# cols = 3\n",
    "\n",
    "# # Create an empty grid\n",
    "# grid = []\n",
    "\n",
    "# # Generate state names and populate the grid\n",
    "# state_counter = 1\n",
    "# for row in range(rows):\n",
    "#     row_states = []\n",
    "#     for col in range(cols):\n",
    "#         state_name = f'S{row + 1}{col + 1}'\n",
    "#         row_states.append(state_name)\n",
    "#         state_counter += 1\n",
    "#     grid.append(row_states)\n",
    "\n",
    "# # Print the grid with state names\n",
    "# for row in grid:\n",
    "#     print(row)\n"
   ]
  },
  {
   "cell_type": "code",
   "execution_count": 20,
   "id": "26282411",
   "metadata": {},
   "outputs": [
    {
     "data": {
      "text/plain": [
       "array([[0.  , 0.25, 0.  , 0.  , 0.  , 0.  , 0.  , 0.  , 0.  ],\n",
       "       [0.25, 1.  , 0.25, 0.  , 0.  , 0.  , 0.  , 0.  , 0.  ],\n",
       "       [0.  , 0.25, 0.  , 0.  , 0.  , 0.  , 0.  , 0.  , 0.  ],\n",
       "       [0.  , 0.  , 0.  , 0.  , 0.  , 0.  , 0.  , 0.  , 0.  ],\n",
       "       [0.  , 0.  , 0.  , 0.  , 0.  , 0.  , 0.  , 0.  , 0.  ],\n",
       "       [0.  , 0.  , 0.  , 0.  , 0.  , 0.  , 0.  , 0.  , 0.  ],\n",
       "       [0.  , 0.  , 0.  , 0.  , 0.  , 0.  , 0.  , 0.  , 0.  ],\n",
       "       [0.  , 0.  , 0.  , 0.  , 0.  , 0.  , 0.  , 0.  , 0.  ],\n",
       "       [0.  , 0.  , 0.  , 0.  , 0.  , 0.  , 0.  , 0.  , 0.  ]])"
      ]
     },
     "execution_count": 20,
     "metadata": {},
     "output_type": "execute_result"
    }
   ],
   "source": [
    "n = 3\n",
    "A = np.zeros((n**2,n**2))\n",
    "for i in range(1,n-1):\n",
    "    for j in range(1,n-1):\n",
    "            A[i,j]  = 1\n",
    "            A[i-1,j] = 1/4\n",
    "            A[i+1,j] = 1/4\n",
    "            A[i,j-1] = 1/4\n",
    "            A[i,j+1] = 1/4\n",
    "            \n",
    "A       "
   ]
  },
  {
   "cell_type": "code",
   "execution_count": 2,
   "id": "499568aa",
   "metadata": {},
   "outputs": [
    {
     "name": "stdout",
     "output_type": "stream",
     "text": [
      "S11 = S22\n",
      "Si-1,j = S12\n"
     ]
    }
   ],
   "source": [
    "# Define the dimensions of the grid\n",
    "rows = 3\n",
    "cols = 3\n",
    "\n",
    "# Create an empty grid\n",
    "grid = [[None for _ in range(cols)] for _ in range(rows)]\n",
    "\n",
    "# Populate the grid with state names\n",
    "for i in range(rows):\n",
    "    for j in range(cols):\n",
    "        state_name = f'S{i + 1}{j + 1}'\n",
    "        grid[i][j] = state_name\n",
    "\n",
    "# Function to get the state at a specific row and column\n",
    "def get_state(row, col):\n",
    "    if 0 <= row < rows and 0 <= col < cols:\n",
    "        return grid[row][col]\n",
    "    else:\n",
    "        return None\n",
    "\n",
    "# Example: Relate S11 to Si-1,j\n",
    "row_index = 1\n",
    "col_index = 1\n",
    "\n",
    "# Calculate the indices for Si-1,j\n",
    "previous_row_index = row_index - 1\n",
    "\n",
    "# Get the state S11\n",
    "state_11 = get_state(row_index, col_index)\n",
    "\n",
    "# Get the related state Si-1,j\n",
    "related_state = get_state(previous_row_index, col_index)\n",
    "\n",
    "print(f'S11 = {state_11}')\n",
    "print(f'Si-1,j = {related_state}')\n"
   ]
  },
  {
   "cell_type": "code",
   "execution_count": 3,
   "id": "bdf71dbd",
   "metadata": {},
   "outputs": [
    {
     "name": "stdout",
     "output_type": "stream",
     "text": [
      "['S31', 'S32', 'S33']\n",
      "['S21', 'S22', 'S23']\n",
      "['S11', 'S12', 'S13']\n",
      "\n",
      "State at row 1, column 2: S23\n"
     ]
    }
   ],
   "source": [
    "# Define the dimensions of the grid\n",
    "rows = 3\n",
    "cols = 3\n",
    "\n",
    "# Create an empty grid\n",
    "grid = [[None for _ in range(cols)] for _ in range(rows)]\n",
    "\n",
    "# Populate the grid with state names, arranging states so that the least i is at the last row\n",
    "for i in range(rows):\n",
    "    for j in range(cols):\n",
    "        state_name = f'S{i + 1}{j + 1}'\n",
    "        grid[rows - i - 1][j] = state_name  # Arrange states based on least i at last row\n",
    "\n",
    "# Function to get the state at a specific row and column\n",
    "def get_state(row, col):\n",
    "    if 0 <= row < rows and 0 <= col < cols:\n",
    "        return grid[row][col]\n",
    "    else:\n",
    "        return None\n",
    "\n",
    "# Example: Access state at row 1, column 2\n",
    "state = get_state(1, 2)\n",
    "\n",
    "# Print the grid\n",
    "for row in grid:\n",
    "    print(row)\n",
    "\n",
    "print(f'\\nState at row 1, column 2: {state}')\n"
   ]
  },
  {
   "cell_type": "code",
   "execution_count": 5,
   "id": "fdb5f2c6",
   "metadata": {},
   "outputs": [
    {
     "name": "stdout",
     "output_type": "stream",
     "text": [
      "S22 = S22\n",
      "Si-1,j = S12\n"
     ]
    }
   ],
   "source": [
    "# Define the dimensions of the grid\n",
    "rows = 3\n",
    "cols = 3\n",
    "\n",
    "# Define the state you want to relate to Si-1,j\n",
    "target_state = 'S22'\n",
    "\n",
    "# Find the row and column indices of the target state\n",
    "for i in range(rows):\n",
    "    for j in range(cols):\n",
    "        if grid[i][j] == target_state:\n",
    "            row_index = i\n",
    "            col_index = j\n",
    "            break\n",
    "\n",
    "# Calculate the indices for Si-1,j based on the provided arrangement\n",
    "previous_row_index = row_index + 1  # Increase the row index by 1 to relate to the row above\n",
    "related_col_index = col_index\n",
    "\n",
    "# Get the state S22\n",
    "state_22 = target_state\n",
    "\n",
    "# Get the related state Si-1,j based on the arrangement\n",
    "related_state = get_state(previous_row_index, related_col_index)\n",
    "\n",
    "print(f'{target_state} = {state_22}')\n",
    "print(f'Si-1,j = {related_state}')\n"
   ]
  },
  {
   "cell_type": "code",
   "execution_count": 21,
   "id": "916dfd30",
   "metadata": {},
   "outputs": [
    {
     "name": "stdout",
     "output_type": "stream",
     "text": [
      "Cell value at row 0 and column 0 is: z1\n",
      "Cell value at row 0 and column 1 is: z2\n",
      "Cell value at row 0 and column 2 is: z3\n",
      "Cell value at row 1 and column 0 is: z4\n",
      "Cell value at row 1 and column 1 is: z5\n",
      "Cell value at row 1 and column 2 is: z6\n",
      "Cell value at row 2 and column 0 is: z7\n",
      "Cell value at row 2 and column 1 is: z8\n",
      "Cell value at row 2 and column 2 is: z9\n"
     ]
    }
   ],
   "source": [
    "n_rows = 3\n",
    "n_cols = 3\n",
    "\n",
    "grid = [['z' + str(i + n_rows * j) for i in range(1, n_cols + 1)] for j in range(n_rows)]\n",
    "\n",
    "# # Accessing individual cells using the 'i' and 'j' indices\n",
    "# for j in range(n_rows):\n",
    "#     for i in range(n_cols):\n",
    "#         cell_value = grid[j][i]\n",
    "#         print(\"Cell value at row\", j, \"and column\", i, \"is:\", cell_value)"
   ]
  },
  {
   "cell_type": "code",
   "execution_count": 22,
   "id": "a71be7af",
   "metadata": {},
   "outputs": [
    {
     "data": {
      "text/plain": [
       "[['z1', 'z2', 'z3'], ['z4', 'z5', 'z6'], ['z7', 'z8', 'z9']]"
      ]
     },
     "execution_count": 22,
     "metadata": {},
     "output_type": "execute_result"
    }
   ],
   "source": [
    "grid"
   ]
  },
  {
   "cell_type": "code",
   "execution_count": 29,
   "id": "ac731bcc",
   "metadata": {},
   "outputs": [
    {
     "name": "stdout",
     "output_type": "stream",
     "text": [
      "Equation 1:\n",
      "-v(i, j) + 1/4*v(i, j+1) + 1/4*v(i-1, j) + 1/4*v(i+1, j) + 1/4*v(i, j-1) ≤ 1\n",
      "\n",
      "Equation 2:\n",
      "1/4*v(i, j+1) + 1/4*v(i-1, 0) + 1/4*v(i+1, 0) - 3/4*v(i, 0) ≤ 1\n",
      "\n",
      "Equation 3:\n",
      "-3/4*v(i, 7) + 1/4*v(i-1, 7) + 1/4*v(i+1, 7) + 1/4*v(i, j-1) ≤ 1\n",
      "\n",
      "Equation 4:\n",
      "-3/4*v(0, j) + 1/4*v(0, j-1) + 1/4*v(0, j+1) + 1/4*v(i+1, j) ≤ 1\n",
      "\n",
      "Equation 5:\n",
      "-3/4*v(7, j) + 1/4*v(7, j-1) + 1/4*v(7, j+1) + 1/4*v(i-1, j) ≤ 1\n",
      "\n",
      "Equation 6:\n",
      "-1/2*v(0, 0) + 1/4*v(1, 0) + 1/4*v(0, 1) ≤ 1\n",
      "\n",
      "Equation 7:\n",
      "-1/2*v(7, 0) + 1/4*v(6, 0) + 1/4*v(7, 1) ≤ 1\n",
      "\n",
      "Equation 8:\n",
      "-1/2*v(0, 7) + 1/4*v(0, 6) + 1/4*v(1, 7) ≤ 1\n"
     ]
    }
   ],
   "source": [
    "# Define the equations as formatted strings\n",
    "equation_1 = \"-v(i, j) + 1/4*v(i, j+1) + 1/4*v(i-1, j) + 1/4*v(i+1, j) + 1/4*v(i, j-1) ≤ 1\"\n",
    "equation_2 = \"1/4*v(i, j+1) + 1/4*v(i-1, 0) + 1/4*v(i+1, 0) - 3/4*v(i, 0) ≤ 1\"\n",
    "equation_3 = \"-3/4*v(i, 7) + 1/4*v(i-1, 7) + 1/4*v(i+1, 7) + 1/4*v(i, j-1) ≤ 1\"\n",
    "equation_4 = \"-3/4*v(0, j) + 1/4*v(0, j-1) + 1/4*v(0, j+1) + 1/4*v(i+1, j) ≤ 1\"\n",
    "equation_5 = \"-3/4*v(7, j) + 1/4*v(7, j-1) + 1/4*v(7, j+1) + 1/4*v(i-1, j) ≤ 1\"\n",
    "equation_6 = \"-1/2*v(0, 0) + 1/4*v(1, 0) + 1/4*v(0, 1) ≤ 1\"\n",
    "equation_7 = \"-1/2*v(7, 0) + 1/4*v(6, 0) + 1/4*v(7, 1) ≤ 1\"\n",
    "equation_8 = \"-1/2*v(0, 7) + 1/4*v(0, 6) + 1/4*v(1, 7) ≤ 1\"\n",
    "\n",
    "# Display equations\n",
    "print(\"Equation 1:\")\n",
    "print(equation_1)\n",
    "print(\"\\nEquation 2:\")\n",
    "print(equation_2)\n",
    "print(\"\\nEquation 3:\")\n",
    "print(equation_3)\n",
    "print(\"\\nEquation 4:\")\n",
    "print(equation_4)\n",
    "print(\"\\nEquation 5:\")\n",
    "print(equation_5)\n",
    "print(\"\\nEquation 6:\")\n",
    "print(equation_6)\n",
    "print(\"\\nEquation 7:\")\n",
    "print(equation_7)\n",
    "print(\"\\nEquation 8:\")\n",
    "print(equation_8)\n"
   ]
  },
  {
   "cell_type": "code",
   "execution_count": 30,
   "id": "b5f79c16",
   "metadata": {},
   "outputs": [
    {
     "name": "stdout",
     "output_type": "stream",
     "text": [
      "Equation 1:\n",
      "False\n",
      "\n",
      "Equation 2:\n",
      "False\n",
      "\n",
      "Equation 3:\n",
      "False\n",
      "\n",
      "Equation 4:\n",
      "False\n",
      "\n",
      "Equation 5:\n",
      "False\n",
      "\n",
      "Equation 6:\n",
      "False\n",
      "\n",
      "Equation 7:\n",
      "False\n",
      "\n",
      "Equation 8:\n",
      "False\n",
      "\n",
      "Equation 9:\n",
      "False\n"
     ]
    }
   ],
   "source": [
    "from sympy import symbols, Eq, Rational\n",
    "\n",
    "# Define symbols\n",
    "i, j, gamma = symbols('i j gamma')\n",
    "v = symbols('v', real=True)\n",
    "\n",
    "# Define the equations symbolically\n",
    "equation_1 = Eq(-v + Rational(1, 4) * v.subs(j, j + 1) + Rational(1, 4) * v.subs(i, i - 1) + Rational(1, 4) * v.subs(i, i + 1) + Rational(1, 4) * v.subs(j, j - 1), 1)\n",
    "\n",
    "equation_2 = Eq(Rational(1, 4) * v.subs(j, j + 1) + Rational(1, 4) * v.subs(i, i - 1) + Rational(1, 4) * v.subs(i, i + 1) - Rational(3, 4) * v.subs(i, 0), 1)\n",
    "\n",
    "equation_3 = Eq(-Rational(3, 4) * v.subs(i, 7) + Rational(1, 4) * v.subs(i, i - 1) + Rational(1, 4) * v.subs(i, i + 1) + Rational(1, 4) * v.subs(j, j - 1), 1)\n",
    "\n",
    "equation_4 = Eq(-Rational(3, 4) * v.subs(i, 0) + Rational(1, 4) * v.subs(i, i - 1) + Rational(1, 4) * v.subs(i, i + 1) + Rational(1, 4) * v.subs(j, j + 1), 1)\n",
    "\n",
    "equation_5 = Eq(-Rational(3, 4) * v.subs(j, 7) + Rational(1, 4) * v.subs(j, j - 1) + Rational(1, 4) * v.subs(j, j + 1) + Rational(1, 4) * v.subs(i, i + 1), 1)\n",
    "\n",
    "equation_6 = Eq(-Rational(3, 4) * v.subs(i, 0) + Rational(1, 4) * v.subs(i, i - 1) + Rational(1, 4) * v.subs(i, i + 1) + Rational(1, 4) * v.subs(j, 0), 1)\n",
    "\n",
    "equation_7 = Eq(-Rational(1, 2) * v.subs(i, 0) + Rational(1, 4) * v.subs(i, 1) + Rational(1, 4) * v.subs(j, 0), 1)\n",
    "\n",
    "equation_8 = Eq(-Rational(1, 2) * v.subs(i, 7) + Rational(1, 4) * v.subs(i, 6) + Rational(1, 4) * v.subs(j, 7), 1)\n",
    "\n",
    "equation_9 = Eq(-Rational(1, 2) * v.subs(j, 0) + Rational(1, 4) * v.subs(j, 1) + Rational(1, 4) * v.subs(i, 0), 1)\n",
    "\n",
    "# Display equations\n",
    "print(\"Equation 1:\")\n",
    "print(equation_1)\n",
    "print(\"\\nEquation 2:\")\n",
    "print(equation_2)\n",
    "print(\"\\nEquation 3:\")\n",
    "print(equation_3)\n",
    "print(\"\\nEquation 4:\")\n",
    "print(equation_4)\n",
    "print(\"\\nEquation 5:\")\n",
    "print(equation_5)\n",
    "print(\"\\nEquation 6:\")\n",
    "print(equation_6)\n",
    "print(\"\\nEquation 7:\")\n",
    "print(equation_7)\n",
    "print(\"\\nEquation 8:\")\n",
    "print(equation_8)\n",
    "print(\"\\nEquation 9:\")\n",
    "print(equation_9)\n",
    "\n"
   ]
  },
  {
   "cell_type": "code",
   "execution_count": null,
   "id": "444ee457",
   "metadata": {},
   "outputs": [],
   "source": []
  }
 ],
 "metadata": {
  "kernelspec": {
   "display_name": "Python 3 (ipykernel)",
   "language": "python",
   "name": "python3"
  },
  "language_info": {
   "codemirror_mode": {
    "name": "ipython",
    "version": 3
   },
   "file_extension": ".py",
   "mimetype": "text/x-python",
   "name": "python",
   "nbconvert_exporter": "python",
   "pygments_lexer": "ipython3",
   "version": "3.9.12"
  }
 },
 "nbformat": 4,
 "nbformat_minor": 5
}
